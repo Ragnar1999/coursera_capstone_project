{
    "nbformat_minor": 1, 
    "cells": [
        {
            "execution_count": 2, 
            "cell_type": "code", 
            "metadata": {}, 
            "outputs": [], 
            "source": "import numpy\n"
        }, 
        {
            "execution_count": 3, 
            "cell_type": "code", 
            "metadata": {}, 
            "outputs": [
                {
                    "output_type": "stream", 
                    "name": "stdout", 
                    "text": "Please input the issues of repayment: 12\nPlease input the interest rate based on the issues of repayment: 0.1\n"
                }
            ], 
            "source": "while True:\n    n=input(\"Please input the issues of repayment: \")\n    try:\n        x=eval(n)\n        if type(x)==int:\n            break\n    except:\n            pass\n\nn=int(n)\n\nwhile True:\n    r=input(\"Please input the interest rate based on the issues of repayment: \")\n    try:\n        x=eval(r)\n        if type(x)==float:\n            break\n    except:\n            pass\nr=float(r)\n"
        }, 
        {
            "execution_count": 4, 
            "cell_type": "code", 
            "metadata": {}, 
            "outputs": [], 
            "source": "\nc=[-1]\nfor i in range(n):\n    c.append(1/n+r/n)\n"
        }, 
        {
            "execution_count": 5, 
            "cell_type": "code", 
            "metadata": {}, 
            "outputs": [
                {
                    "output_type": "stream", 
                    "name": "stdout", 
                    "text": "The effective rate of interest per month is:  0.01497666458169622\nThe effective rate of interest per year is  0.19528835799355537\n"
                }
            ], 
            "source": "IRR=numpy.irr(c)\nprint(\"The effective rate of interest per month is: \",IRR)\nprint(\"The effective rate of interest per year is \",pow(IRR+1, 12) - 1)"
        }, 
        {
            "execution_count": 6, 
            "cell_type": "code", 
            "metadata": {}, 
            "outputs": [
                {
                    "output_type": "stream", 
                    "name": "stdout", 
                    "text": "In order to calculate the present value, you need to choose the discount rate.\nPlease input the discount rate: 0.01498\n"
                }
            ], 
            "source": "print(\"In order to calculate the present value, you need to choose the discount rate.\")\nwhile True:\n    rate=input(\"Please input the discount rate: \")\n    try:\n        y=eval(rate)\n        if type(y)==float:\n            break\n    except:\n            pass\nrate=float(rate)\n"
        }, 
        {
            "execution_count": 7, 
            "cell_type": "code", 
            "metadata": {}, 
            "outputs": [
                {
                    "output_type": "stream", 
                    "name": "stdout", 
                    "text": "Please input the total amount of money you want to borrow: 120000\n"
                }
            ], 
            "source": "while True:\n    borrow=input(\"Please input the total amount of money you want to borrow: \")\n    try:\n        y=eval(borrow)\n        if type(y)==int:\n            break\n    except:\n            pass\n\nborrow=int(borrow)            \n \n"
        }, 
        {
            "execution_count": 8, 
            "cell_type": "code", 
            "metadata": {}, 
            "outputs": [
                {
                    "execution_count": 8, 
                    "metadata": {}, 
                    "data": {
                        "text/plain": "-119997.50662045479"
                    }, 
                    "output_type": "execute_result"
                }
            ], 
            "source": "pmt=(borrow+borrow*r)/n\npv=numpy.pv(rate, n, pmt, fv=0.0, when='end')\npv"
        }, 
        {
            "execution_count": 9, 
            "cell_type": "code", 
            "metadata": {}, 
            "outputs": [
                {
                    "output_type": "stream", 
                    "name": "stdout", 
                    "text": "The dicounted present value is:  119997.50662045479\n"
                }
            ], 
            "source": "print(\"The dicounted present value is: \",abs(pv))"
        }, 
        {
            "execution_count": null, 
            "cell_type": "code", 
            "metadata": {}, 
            "outputs": [], 
            "source": ""
        }, 
        {
            "execution_count": null, 
            "cell_type": "code", 
            "metadata": {}, 
            "outputs": [], 
            "source": ""
        }, 
        {
            "execution_count": null, 
            "cell_type": "code", 
            "metadata": {}, 
            "outputs": [], 
            "source": ""
        }, 
        {
            "execution_count": null, 
            "cell_type": "code", 
            "metadata": {}, 
            "outputs": [], 
            "source": ""
        }
    ], 
    "metadata": {
        "kernelspec": {
            "display_name": "Python 3.6", 
            "name": "python3", 
            "language": "python"
        }, 
        "language_info": {
            "mimetype": "text/x-python", 
            "nbconvert_exporter": "python", 
            "version": "3.6.8", 
            "name": "python", 
            "file_extension": ".py", 
            "pygments_lexer": "ipython3", 
            "codemirror_mode": {
                "version": 3, 
                "name": "ipython"
            }
        }
    }, 
    "nbformat": 4
}